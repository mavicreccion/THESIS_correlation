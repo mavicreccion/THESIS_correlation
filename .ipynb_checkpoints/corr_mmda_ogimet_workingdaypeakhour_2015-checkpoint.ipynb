{
 "cells": [
  {
   "cell_type": "code",
   "execution_count": 1,
   "metadata": {
    "collapsed": true
   },
   "outputs": [],
   "source": [
    "import numpy as np\n",
    "import pandas as pd\n",
    "import datetime"
   ]
  },
  {
   "cell_type": "markdown",
   "metadata": {},
   "source": [
    "# Get weather dataset"
   ]
  },
  {
   "cell_type": "code",
   "execution_count": 2,
   "metadata": {},
   "outputs": [],
   "source": [
    "weather_dataset = pd.read_csv('weather_wwo_manila_2015.csv', skipinitialspace=True, encoding='cp1252')\n",
    "weather_dataset = weather_dataset.set_index(['dt'])\n",
    "cols = [\"tempC\", \"windspeedKmph\", \"cond\", \"precipMM\", \"humidity\", \"visibility\", \"pressure\", \"cloudcover\", \"heatIndexC\", \"dewPointC\", \"windChillC\", \"windGustKmph\", \"feelsLikeC\"]\n",
    "weather_dataset = weather_dataset[cols]"
   ]
  },
  {
   "cell_type": "markdown",
   "metadata": {},
   "source": [
    "# Get working days and peak hours only"
   ]
  },
  {
   "cell_type": "code",
   "execution_count": 3,
   "metadata": {
    "scrolled": true
   },
   "outputs": [
    {
     "name": "stderr",
     "output_type": "stream",
     "text": [
      "C:\\Users\\victo\\AppData\\Local\\Continuum\\anaconda3\\lib\\site-packages\\ipykernel_launcher.py:91: SettingWithCopyWarning: \n",
      "A value is trying to be set on a copy of a slice from a DataFrame\n",
      "\n",
      "See the caveats in the documentation: http://pandas.pydata.org/pandas-docs/stable/indexing.html#indexing-view-versus-copy\n"
     ]
    }
   ],
   "source": [
    "# Duplicate dataset\n",
    "result_df = weather_dataset.copy()\n",
    "\n",
    "# Converting the index as date\n",
    "result_df.index = pd.to_datetime(result_df.index)\n",
    "\n",
    "# Create column work_day\n",
    "result_df['work_day'] = ((result_df.index.dayofweek) < 5).astype(int)\n",
    "\n",
    "# Consider non-working holiday\n",
    "result_df.loc['2015-01-01', 'work_day'] = 0\n",
    "result_df.loc['2015-01-02', 'work_day'] = 0\n",
    "result_df.loc['2015-01-15', 'work_day'] = 0\n",
    "result_df.loc['2015-01-16', 'work_day'] = 0\n",
    "result_df.loc['2015-01-19', 'work_day'] = 0\n",
    "result_df.loc['2015-02-19', 'work_day'] = 0\n",
    "result_df.loc['2015-02-25', 'work_day'] = 0\n",
    "result_df.loc['2015-03-16', 'work_day'] = 0\n",
    "result_df.loc['2015-04-02', 'work_day'] = 0\n",
    "result_df.loc['2015-04-03', 'work_day'] = 0\n",
    "result_df.loc['2015-04-04', 'work_day'] = 0\n",
    "result_df.loc['2015-04-09', 'work_day'] = 0\n",
    "result_df.loc['2015-05-01', 'work_day'] = 0\n",
    "result_df.loc['2015-06-11', 'work_day'] = 0\n",
    "result_df.loc['2015-06-12', 'work_day'] = 0\n",
    "result_df.loc['2015-06-24', 'work_day'] = 0\n",
    "result_df.loc['2015-07-17', 'work_day'] = 0\n",
    "result_df.loc['2015-08-21', 'work_day'] = 0\n",
    "result_df.loc['2015-08-31', 'work_day'] = 0\n",
    "result_df.loc['2015-09-25', 'work_day'] = 0\n",
    "result_df.loc['2015-11-01', 'work_day'] = 0\n",
    "result_df.loc['2015-11-17', 'work_day'] = 0\n",
    "result_df.loc['2015-11-18', 'work_day'] = 0\n",
    "result_df.loc['2015-11-19', 'work_day'] = 0\n",
    "result_df.loc['2015-11-20', 'work_day'] = 0\n",
    "result_df.loc['2015-11-30', 'work_day'] = 0\n",
    "result_df.loc['2015-12-24', 'work_day'] = 0\n",
    "result_df.loc['2015-12-25', 'work_day'] = 0\n",
    "result_df.loc['2015-12-30', 'work_day'] = 0\n",
    "result_df.loc['2015-12-31', 'work_day'] = 0\n",
    "\n",
    "# # Consider class suspension\n",
    "result_df.loc['2015-01-09', 'work_day'] = 0\n",
    "result_df.loc['2015-01-14', 'work_day'] = 0\n",
    "result_df.loc['2015-03-17', 'work_day'] = 0\n",
    "result_df.loc['2015-07-06', 'work_day'] = 0\n",
    "result_df.loc['2015-07-07', 'work_day'] = 0\n",
    "result_df.loc['2015-07-08', 'work_day'] = 0\n",
    "result_df.loc['2015-07-09', 'work_day'] = 0\n",
    "result_df.loc['2015-07-10', 'work_day'] = 0\n",
    "result_df.loc['2015-07-27', 'work_day'] = 0\n",
    "result_df.loc['2015-07-28', 'work_day'] = 0\n",
    "result_df.loc['2015-07-29', 'work_day'] = 0\n",
    "result_df.loc['2015-10-02', 'work_day'] = 0\n",
    "result_df.loc['2015-10-13', 'work_day'] = 0\n",
    "result_df.loc['2015-10-19', 'work_day'] = 0\n",
    "result_df.loc['2015-10-20', 'work_day'] = 0\n",
    "result_df.loc['2015-10-30', 'work_day'] = 0\n",
    "result_df.loc['2015-10-31', 'work_day'] = 0\n",
    "result_df.loc['2015-11-02', 'work_day'] = 0\n",
    "result_df.loc['2015-11-03', 'work_day'] = 0\n",
    "result_df.loc['2015-12-04', 'work_day'] = 0\n",
    "result_df.loc['2015-12-14', 'work_day'] = 0\n",
    "result_df.loc['2015-12-15', 'work_day'] = 0\n",
    "result_df.loc['2015-12-16', 'work_day'] = 0\n",
    "\n",
    "result_df['peak_hour'] = 0\n",
    "\n",
    "# Set morning peak hour\n",
    "\n",
    "start = datetime.time(7,0,0)\n",
    "end = datetime.time(10,0,0)\n",
    "\n",
    "result_df.loc[result_df.between_time(start, end).index, 'peak_hour'] = 1\n",
    "\n",
    "# Set afternoon peak hour\n",
    "\n",
    "start = datetime.time(16,0,0)\n",
    "end = datetime.time(19,0,0)\n",
    "\n",
    "result_df.loc[result_df.between_time(start, end).index, 'peak_hour'] = 1\n",
    "\n",
    "# Parameters\n",
    "IS_WORKDAY = 1\n",
    "IS_PEAKHOUR = 1\n",
    "\n",
    "# Filter based on parameters\n",
    "work_day_peak_hour_df = result_df[(result_df['work_day'] == IS_WORKDAY) & (result_df['peak_hour'] == IS_PEAKHOUR)]\n",
    "\n",
    "# Remove work_day and peak_hour columns\n",
    "work_day_peak_hour_df.drop(['work_day', 'peak_hour'], axis=1, inplace=True)"
   ]
  },
  {
   "cell_type": "markdown",
   "metadata": {},
   "source": [
    "# correlate traffic and weather dataset"
   ]
  },
  {
   "cell_type": "code",
   "execution_count": 17,
   "metadata": {
    "collapsed": true
   },
   "outputs": [],
   "source": [
    "roads = [\"A. Maceda\", \"Anda Circle\", \"Antipolo\", \"Bluementritt\", \"Buendia\", \"Edsa Extension\", \"Finance Road\", \"Gov. Forbes - Lacson\", \"Lerma\", \"Magsaysay Ave\", \"P.Noval\", \"Pablo Ocampo\", \"Pedro Gil\", \"Quezon Ave.\", \"Quirino\", \"Rajah Sulayman\", \"Taft Ave.\", \"U.N. Avenue\", \"Vicente Cruz\"]"
   ]
  },
  {
   "cell_type": "code",
   "execution_count": 18,
   "metadata": {
    "collapsed": true
   },
   "outputs": [],
   "source": [
    "for road in roads:\n",
    "    traffic_dataset = pd.read_csv('mmda_2015_transformed/mmda_' + road + '_2015_transformed.csv', index_col=['dt'], skipinitialspace=True, encoding='cp1252')\n",
    "    traffic_dataset = traffic_dataset[['statusN', 'statusS']]\n",
    "    traffic_dataset.index = pd.to_datetime(traffic_dataset.index)\n",
    "    \n",
    "    # merge traffic and weather dataset\n",
    "    dataset = pd.concat([traffic_dataset, work_day_peak_hour_df], axis=1, join='inner')\n",
    "    \n",
    "    # correlate\n",
    "    corr = dataset.corr(method='spearman')\n",
    "    corr.to_csv('corr_mmda_wwo_2015_workingdaypeakhour/corr_mmda_wwo_workingdaypeakhour_' + road + '_2015.csv')"
   ]
  },
  {
   "cell_type": "code",
   "execution_count": 19,
   "metadata": {},
   "outputs": [],
   "source": [
    "df = []\n",
    "\n",
    "for road in roads:    \n",
    "    dataset = pd.read_csv('corr_mmda_wwo_2015_workingdaypeakhour/corr_mmda_wwo_workingdaypeakhour_' + road + '_2015.csv', skipinitialspace=True, encoding='cp1252')\n",
    "    dataset = dataset.loc[:, ~dataset.columns.str.contains('^Unnamed')]\n",
    "    dataset = dataset.loc[:1]\n",
    "    df.append(dataset)\n",
    "    \n",
    "df = pd.concat(df)\n",
    "df.to_csv('corr_mmda_wwo_2015_workingdaypeakhour/workingdaypeakhour_corr_mmda_wwo_2015.csv')"
   ]
  },
  {
   "cell_type": "code",
   "execution_count": 20,
   "metadata": {
    "collapsed": true
   },
   "outputs": [],
   "source": [
    "total_lags = 8\n",
    "\n",
    "for road in roads:\n",
    "    traffic_dataset = pd.read_csv('mmda_2015_transformed/mmda_' + road + '_2015_transformed.csv', index_col=['dt'], skipinitialspace=True, encoding='cp1252')\n",
    "    traffic_dataset = traffic_dataset[['statusN', 'statusS']]\n",
    "    traffic_dataset.index = pd.to_datetime(traffic_dataset.index)\n",
    "    \n",
    "    # merge traffic and weather dataset\n",
    "    dataset = pd.concat([traffic_dataset, work_day_peak_hour_df], axis=1, join='inner')\n",
    "    \n",
    "    # make a copy\n",
    "    new_dataset = dataset.copy()\n",
    "    \n",
    "    for i in range(1, (total_lags+1)):\n",
    "        new_dataset.statusN = new_dataset.statusN.shift(-1)\n",
    "        new_dataset.statusS = new_dataset.statusS.shift(-1)\n",
    "        new_dataset = new_dataset[:(len(new_dataset)-1)]\n",
    "\n",
    "        corr = new_dataset.corr(method='spearman')\n",
    "        corr.to_csv('corr_mmda_wwo_2015_workingdaypeakhour_lags/corr_mmda_wwo_workingdaypeakhour_' + road + '_2015_lag_' + str(i) + '.csv')"
   ]
  },
  {
   "cell_type": "code",
   "execution_count": 21,
   "metadata": {
    "collapsed": true
   },
   "outputs": [],
   "source": [
    "for i in range(1, (total_lags+1)):\n",
    "    \n",
    "    lag_dataset = []\n",
    "    \n",
    "    for road in roads:\n",
    "        dataset = pd.read_csv('corr_mmda_wwo_2015_workingdaypeakhour_lags/corr_mmda_wwo_workingdaypeakhour_' + road + '_2015_lag_' + str(i) + '.csv', skipinitialspace=True, encoding='cp1252')\n",
    "        dataset = dataset.loc[:, ~dataset.columns.str.contains('^Unnamed')]\n",
    "        dataset = dataset.loc[:1]\n",
    "        \n",
    "        lag_dataset.append(dataset)\n",
    "    \n",
    "    lag_dataset = pd.concat(lag_dataset)\n",
    "    lag_dataset.to_csv('corr_mmda_wwo_2015_workingdaypeakhour_lags/corr_mmda_wwo_2015_workingdaypeakhour_lag_' + str(i) + '.csv')"
   ]
  }
 ],
 "metadata": {
  "kernelspec": {
   "display_name": "Python 3",
   "language": "python",
   "name": "python3"
  },
  "language_info": {
   "codemirror_mode": {
    "name": "ipython",
    "version": 3
   },
   "file_extension": ".py",
   "mimetype": "text/x-python",
   "name": "python",
   "nbconvert_exporter": "python",
   "pygments_lexer": "ipython3",
   "version": "3.6.3"
  }
 },
 "nbformat": 4,
 "nbformat_minor": 2
}
