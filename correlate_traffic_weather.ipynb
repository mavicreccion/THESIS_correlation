{
 "cells": [
  {
   "cell_type": "code",
   "execution_count": 1,
   "metadata": {
    "collapsed": true
   },
   "outputs": [],
   "source": [
    "import pandas as pd\n",
    "import seaborn as sns\n",
    "%matplotlib inline"
   ]
  },
  {
   "cell_type": "code",
   "execution_count": 7,
   "metadata": {},
   "outputs": [],
   "source": [
    "# Read the dataset\n",
    "dataset = pd.read_csv(\"merged_mmda_wwo_Taft Ave._2015_transformed.csv\", skipinitialspace=True, encoding='cp1252')\n",
    "\n",
    "# Remove unused columms\n",
    "dataset = dataset[['statusN', 'statusS', 'tempC', 'windspeedKmph', 'cond', 'precipMM', 'humidity', 'visibility', 'pressure', 'cloudcover', 'dewPointC', 'windGustKmph']]\n",
    "dataset\n",
    "\n",
    "# Correlate\n",
    "corr = dataset.corr(method='spearman')\n",
    "corr\n",
    "# sns.heatmap(corr)\n",
    "\n",
    "# Save the correlation dataset\n",
    "corr.to_csv(\"corr_merged_mmda_wwo_Taft Ave._2015_transformed.csv\")"
   ]
  },
  {
   "cell_type": "code",
   "execution_count": null,
   "metadata": {
    "collapsed": true
   },
   "outputs": [],
   "source": []
  }
 ],
 "metadata": {
  "kernelspec": {
   "display_name": "Python 3",
   "language": "python",
   "name": "python3"
  },
  "language_info": {
   "codemirror_mode": {
    "name": "ipython",
    "version": 3
   },
   "file_extension": ".py",
   "mimetype": "text/x-python",
   "name": "python",
   "nbconvert_exporter": "python",
   "pygments_lexer": "ipython3",
   "version": "3.6.3"
  }
 },
 "nbformat": 4,
 "nbformat_minor": 2
}
